{
 "cells": [
  {
   "cell_type": "markdown",
   "metadata": {},
   "source": [
    "# Question & Answer System\n",
    "by ES"
   ]
  },
  {
   "cell_type": "code",
   "execution_count": 21,
   "metadata": {
    "scrolled": false
   },
   "outputs": [
    {
     "name": "stdout",
     "output_type": "stream",
     "text": [
      "43379\n"
     ]
    }
   ],
   "source": [
    "import json\n",
    "\n",
    "with open('documents.json','r') as f:\n",
    "    documents = json.load(f)\n",
    "    \n",
    "with open('training.json','r') as f:\n",
    "    training = json.load(f)\n",
    "\n",
    "with open('devel.json','r') as f:\n",
    "    develop = json.load(f)\n",
    "    \n",
    "with open('testing.json','r') as f:\n",
    "    testing = json.load(f)\n",
    "    \n",
    "print(len(training))"
   ]
  },
  {
   "cell_type": "code",
   "execution_count": 20,
   "metadata": {},
   "outputs": [
    {
     "name": "stdout",
     "output_type": "stream",
     "text": [
      "(S\n",
      "  (GPE Bush/NNP)\n",
      "  is/VBZ\n",
      "  a/DT\n",
      "  pig/NN\n",
      "  in/IN\n",
      "  (ORGANIZATION WhiteHouse/NNP)\n",
      "  in/IN\n",
      "  (GPE America/NNP)\n",
      "  ./.)\n"
     ]
    }
   ],
   "source": [
    "import nltk\n",
    "from nltk.corpus import state_union\n",
    "from nltk.tokenize import PunktSentenceTokenizer\n",
    " \n",
    "sentence=\"Bush is a pig in WhiteHouse in America.\"\n",
    "words=nltk.word_tokenize(sentence)\n",
    "tagged=nltk.pos_tag(words)\n",
    "nameEnt=nltk.ne_chunk(tagged,binary=False)\n",
    "     \n",
    "print(nameEnt)"
   ]
  },
  {
   "cell_type": "code",
   "execution_count": null,
   "metadata": {},
   "outputs": [],
   "source": []
  }
 ],
 "metadata": {
  "kernelspec": {
   "display_name": "Python 3",
   "language": "python",
   "name": "python3"
  },
  "language_info": {
   "codemirror_mode": {
    "name": "ipython",
    "version": 3
   },
   "file_extension": ".py",
   "mimetype": "text/x-python",
   "name": "python",
   "nbconvert_exporter": "python",
   "pygments_lexer": "ipython3",
   "version": "3.6.4"
  }
 },
 "nbformat": 4,
 "nbformat_minor": 2
}
