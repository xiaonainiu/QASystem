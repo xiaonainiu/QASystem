{
 "cells": [
  {
   "cell_type": "code",
   "execution_count": 6,
   "metadata": {},
   "outputs": [
    {
     "name": "stdout",
     "output_type": "stream",
     "text": [
      "sen_before: abc,123,456,789,mnp\n",
      "sen_back: abc123456789mnp\n"
     ]
    }
   ],
   "source": [
    "import re\n",
    "sen = \"abc,123,456,789,mnp\"\n",
    "p = re.compile(\",\")\n",
    "\n",
    "# for com in p.finditer(sen):\n",
    "#     mm = com.group()\n",
    "#     print (\"hi:\", mm)\n",
    "print (\"sen_before:\", sen)\n",
    "sen = sen.replace(\",\", \"\")\n",
    "print (\"sen_back:\", sen)"
   ]
  },
  {
   "cell_type": "code",
   "execution_count": null,
   "metadata": {},
   "outputs": [],
   "source": []
  }
 ],
 "metadata": {
  "kernelspec": {
   "display_name": "Python 3",
   "language": "python",
   "name": "python3"
  },
  "language_info": {
   "codemirror_mode": {
    "name": "ipython",
    "version": 3
   },
   "file_extension": ".py",
   "mimetype": "text/x-python",
   "name": "python",
   "nbconvert_exporter": "python",
   "pygments_lexer": "ipython3",
   "version": "3.6.4"
  }
 },
 "nbformat": 4,
 "nbformat_minor": 2
}
